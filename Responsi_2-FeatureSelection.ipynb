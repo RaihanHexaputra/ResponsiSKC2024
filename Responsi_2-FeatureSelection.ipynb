{
 "cells": [
  {
   "cell_type": "code",
   "execution_count": 49,
   "id": "d30e716e-28e3-4f54-b114-6ba68832baac",
   "metadata": {},
   "outputs": [],
   "source": [
    "#Library\n",
    "import pandas as pd\n",
    "import matplotlib.pyplot as plt\n",
    "import sklearn.ensemble as ek\n",
    "from sklearn.feature_selection import SelectFromModel\n",
    "import numpy\n",
    "from sklearn.preprocessing import LabelEncoder"
   ]
  },
  {
   "cell_type": "code",
   "execution_count": 120,
   "id": "e4d419fb-7bed-4d8b-96b1-7627b57bbbc3",
   "metadata": {},
   "outputs": [],
   "source": [
    "# Input Datasets\n",
    "Dataset1 = pd.read_csv(\"C:\\\\Users\\\\Muhammad Raihan\\\\Downloads\\\\Obfuscated-MalMem2022.csv\")\n",
    "Dataset2 = pd.read_csv(\"C:\\\\Data Raihan\\\\Perkuliahan Semester 8\\\\SKC\\\\Dataset\\\\CIC-PDFMal2022\\\\PDFMalware2022.csv\")\n",
    "Dataset3 = pd.read_csv(\"C:\\\\Data Raihan\\\\Perkuliahan Semester 8\\\\SKC\\\\Dataset\\\\TrojanDetection\\\\Trojan_Detection.csv\")\n",
    "Dataset4 = pd.read_csv(\"C:\\\\Data Raihan\\\\Perkuliahan Semester 8\\\\SKC\\\\Dataset\\\\APIsecurityAccessbehavoranomalydataset\\\\supervised_dataset.csv\")\n",
    "Dataset5 = pd.read_csv(\"C:\\\\Data Raihan\\\\Perkuliahan Semester 8\\\\SKC\\\\Dataset\\\\UNSW_NB15\\\\UNSW_NB15_training-set.csv\")"
   ]
  },
  {
   "cell_type": "code",
   "execution_count": 3,
   "id": "e2b2c93d-d26d-48d4-843e-94a3589a676f",
   "metadata": {},
   "outputs": [
    {
     "name": "stdout",
     "output_type": "stream",
     "text": [
      "<class 'pandas.core.frame.DataFrame'>\n",
      "RangeIndex: 58596 entries, 0 to 58595\n",
      "Data columns (total 57 columns):\n",
      " #   Column                                  Non-Null Count  Dtype  \n",
      "---  ------                                  --------------  -----  \n",
      " 0   Category                                58596 non-null  object \n",
      " 1   pslist.nproc                            58596 non-null  int64  \n",
      " 2   pslist.nppid                            58596 non-null  int64  \n",
      " 3   pslist.avg_threads                      58596 non-null  float64\n",
      " 4   pslist.nprocs64bit                      58596 non-null  int64  \n",
      " 5   pslist.avg_handlers                     58596 non-null  float64\n",
      " 6   dlllist.ndlls                           58596 non-null  int64  \n",
      " 7   dlllist.avg_dlls_per_proc               58596 non-null  float64\n",
      " 8   handles.nhandles                        58596 non-null  int64  \n",
      " 9   handles.avg_handles_per_proc            58596 non-null  float64\n",
      " 10  handles.nport                           58596 non-null  int64  \n",
      " 11  handles.nfile                           58596 non-null  int64  \n",
      " 12  handles.nevent                          58596 non-null  int64  \n",
      " 13  handles.ndesktop                        58596 non-null  int64  \n",
      " 14  handles.nkey                            58596 non-null  int64  \n",
      " 15  handles.nthread                         58596 non-null  int64  \n",
      " 16  handles.ndirectory                      58596 non-null  int64  \n",
      " 17  handles.nsemaphore                      58596 non-null  int64  \n",
      " 18  handles.ntimer                          58596 non-null  int64  \n",
      " 19  handles.nsection                        58596 non-null  int64  \n",
      " 20  handles.nmutant                         58596 non-null  int64  \n",
      " 21  ldrmodules.not_in_load                  58596 non-null  int64  \n",
      " 22  ldrmodules.not_in_init                  58596 non-null  int64  \n",
      " 23  ldrmodules.not_in_mem                   58596 non-null  int64  \n",
      " 24  ldrmodules.not_in_load_avg              58596 non-null  float64\n",
      " 25  ldrmodules.not_in_init_avg              58596 non-null  float64\n",
      " 26  ldrmodules.not_in_mem_avg               58596 non-null  float64\n",
      " 27  malfind.ninjections                     58596 non-null  int64  \n",
      " 28  malfind.commitCharge                    58596 non-null  int64  \n",
      " 29  malfind.protection                      58596 non-null  int64  \n",
      " 30  malfind.uniqueInjections                58596 non-null  float64\n",
      " 31  psxview.not_in_pslist                   58596 non-null  int64  \n",
      " 32  psxview.not_in_eprocess_pool            58596 non-null  int64  \n",
      " 33  psxview.not_in_ethread_pool             58596 non-null  int64  \n",
      " 34  psxview.not_in_pspcid_list              58596 non-null  int64  \n",
      " 35  psxview.not_in_csrss_handles            58596 non-null  int64  \n",
      " 36  psxview.not_in_session                  58596 non-null  int64  \n",
      " 37  psxview.not_in_deskthrd                 58596 non-null  int64  \n",
      " 38  psxview.not_in_pslist_false_avg         58596 non-null  float64\n",
      " 39  psxview.not_in_eprocess_pool_false_avg  58596 non-null  float64\n",
      " 40  psxview.not_in_ethread_pool_false_avg   58596 non-null  float64\n",
      " 41  psxview.not_in_pspcid_list_false_avg    58596 non-null  float64\n",
      " 42  psxview.not_in_csrss_handles_false_avg  58596 non-null  float64\n",
      " 43  psxview.not_in_session_false_avg        58596 non-null  float64\n",
      " 44  psxview.not_in_deskthrd_false_avg       58596 non-null  float64\n",
      " 45  modules.nmodules                        58596 non-null  int64  \n",
      " 46  svcscan.nservices                       58596 non-null  int64  \n",
      " 47  svcscan.kernel_drivers                  58596 non-null  int64  \n",
      " 48  svcscan.fs_drivers                      58596 non-null  int64  \n",
      " 49  svcscan.process_services                58596 non-null  int64  \n",
      " 50  svcscan.shared_process_services         58596 non-null  int64  \n",
      " 51  svcscan.interactive_process_services    58596 non-null  int64  \n",
      " 52  svcscan.nactive                         58596 non-null  int64  \n",
      " 53  callbacks.ncallbacks                    58596 non-null  int64  \n",
      " 54  callbacks.nanonymous                    58596 non-null  int64  \n",
      " 55  callbacks.ngeneric                      58596 non-null  int64  \n",
      " 56  Class                                   58596 non-null  object \n",
      "dtypes: float64(15), int64(40), object(2)\n",
      "memory usage: 25.5+ MB\n"
     ]
    }
   ],
   "source": [
    "# Menampilkan info Dataset 1\n",
    "Dataset1.info()"
   ]
  },
  {
   "cell_type": "code",
   "execution_count": 8,
   "id": "52e9a8e5-2ebc-424f-84cb-df2ea41244da",
   "metadata": {},
   "outputs": [],
   "source": [
    "# Feature Selection Dataset 1\n",
    "X = Dataset1.drop(['Category','Class'],axis=1).values    #Di drop karena algoritma klasifikasi tidak menerima variabel tipe object\n",
    "# Target variable untuk Dataset 1\n",
    "y = Dataset1['Class'].values"
   ]
  },
  {
   "cell_type": "code",
   "execution_count": 14,
   "id": "580e77ef-9658-4847-bdc0-5dbb9da5dbd9",
   "metadata": {},
   "outputs": [],
   "source": [
    "#Data Fitting and choosing the important variables\n",
    "extratrees = ek.ExtraTreesClassifier().fit(X,y)\n",
    "model = SelectFromModel(extratrees, prefit=True)\n",
    "X_new = model.transform(X)\n",
    "nbfeatures = X_new.shape[1]"
   ]
  },
  {
   "cell_type": "code",
   "execution_count": 15,
   "id": "379a3c34-2ab8-4e9e-9d61-32db9eea07e1",
   "metadata": {},
   "outputs": [
    {
     "data": {
      "text/plain": [
       "17"
      ]
     },
     "execution_count": 15,
     "metadata": {},
     "output_type": "execute_result"
    }
   ],
   "source": [
    "#Number of important features\n",
    "nbfeatures"
   ]
  },
  {
   "cell_type": "code",
   "execution_count": 20,
   "id": "1864a967-ee42-4073-92b8-f70cf410b5ef",
   "metadata": {},
   "outputs": [
    {
     "name": "stdout",
     "output_type": "stream",
     "text": [
      "1. feature ldrmodules.not_in_load (0.122309)\n",
      "2. feature handles.ndesktop (0.116585)\n",
      "3. feature dlllist.avg_dlls_per_proc (0.088422)\n",
      "4. feature handles.nhandles (0.084545)\n",
      "5. feature svcscan.interactive_process_services (0.049358)\n",
      "6. feature pslist.nprocs64bit (0.048894)\n",
      "7. feature svcscan.kernel_drivers (0.047872)\n",
      "8. feature svcscan.shared_process_services (0.043511)\n",
      "9. feature ldrmodules.not_in_init (0.038520)\n",
      "10. feature svcscan.fs_drivers (0.037583)\n",
      "11. feature ldrmodules.not_in_load_avg (0.036800)\n",
      "12. feature ldrmodules.not_in_mem (0.028114)\n",
      "13. feature handles.ndirectory (0.027676)\n",
      "14. feature pslist.avg_threads (0.024690)\n",
      "15. feature handles.nthread (0.022991)\n",
      "16. feature handles.nsection (0.020954)\n",
      "17. feature callbacks.ncallbacks (0.019692)\n"
     ]
    }
   ],
   "source": [
    "# Menampilkan Fitur penting Dataset 1\n",
    "features = []\n",
    "index = numpy.argsort(extratrees.feature_importances_)[::-1][:nbfeatures]\n",
    "for f in range(nbfeatures):\n",
    "    print(\"%d. feature %s (%f)\" % (f + 1, Dataset1.columns[2+index[f]], extratrees.feature_importances_[index[f]]))\n",
    "    features.append(Dataset1.columns[2+f])"
   ]
  },
  {
   "cell_type": "code",
   "execution_count": 51,
   "id": "3d00dea9-cdfc-459f-9af3-3ee051482a26",
   "metadata": {},
   "outputs": [
    {
     "name": "stdout",
     "output_type": "stream",
     "text": [
      "<class 'pandas.core.frame.DataFrame'>\n",
      "RangeIndex: 10026 entries, 0 to 10025\n",
      "Data columns (total 33 columns):\n",
      " #   Column            Non-Null Count  Dtype  \n",
      "---  ------            --------------  -----  \n",
      " 0   Fine name         10026 non-null  object \n",
      " 1   pdfsize           10025 non-null  float64\n",
      " 2   metadata size     10025 non-null  float64\n",
      " 3   pages             10025 non-null  float64\n",
      " 4   xref Length       10025 non-null  float64\n",
      " 5   title characters  10025 non-null  float64\n",
      " 6   isEncrypted       10025 non-null  float64\n",
      " 7   embedded files    10025 non-null  float64\n",
      " 8   images            10025 non-null  object \n",
      " 9   text              10025 non-null  object \n",
      " 10  header            10025 non-null  object \n",
      " 11  obj               10023 non-null  object \n",
      " 12  endobj            10023 non-null  object \n",
      " 13  stream            10023 non-null  float64\n",
      " 14  endstream         10023 non-null  object \n",
      " 15  xref              10023 non-null  object \n",
      " 16  trailer           10023 non-null  float64\n",
      " 17  startxref         10023 non-null  object \n",
      " 18  pageno            10023 non-null  object \n",
      " 19  encrypt           10023 non-null  float64\n",
      " 20  ObjStm            10023 non-null  float64\n",
      " 21  JS                10023 non-null  object \n",
      " 22  Javascript        10023 non-null  object \n",
      " 23  AA                10023 non-null  object \n",
      " 24  OpenAction        10023 non-null  object \n",
      " 25  Acroform          10023 non-null  object \n",
      " 26  JBIG2Decode       10023 non-null  object \n",
      " 27  RichMedia         10023 non-null  object \n",
      " 28  launch            10023 non-null  object \n",
      " 29  EmbeddedFile      10023 non-null  object \n",
      " 30  XFA               10023 non-null  object \n",
      " 31  Colors            10023 non-null  float64\n",
      " 32  Class             10025 non-null  object \n",
      "dtypes: float64(12), object(21)\n",
      "memory usage: 2.5+ MB\n"
     ]
    }
   ],
   "source": [
    "# Menampilkan info Dataset 2\n",
    "Dataset2.info()"
   ]
  },
  {
   "cell_type": "code",
   "execution_count": 63,
   "id": "c05f1773-1ee8-4460-adcd-674f6a5802cb",
   "metadata": {},
   "outputs": [],
   "source": [
    "# Menghapus baris yang memiliki nilai NaN\n",
    "Dataset2_cleaned = Dataset2.dropna()\n",
    "Dataset2 = Dataset2_cleaned\n",
    "\n",
    "# Feature Selection Dataset 2\n",
    "X = Dataset2.drop(['Fine name', 'images', 'text', 'header', 'obj', 'endobj', 'xref', 'endstream', 'trailer', 'startxref', 'pageno', 'JS', 'Javascript', 'AA', 'OpenAction', 'Acroform', 'JBIG2Decode', 'RichMedia', 'launch', 'EmbeddedFile', 'XFA','Class'],axis=1).values    #Di drop karena algoritma klasifikasi tidak menerima variabel tipe object\n",
    "# Target variable untuk Dataset 2\n",
    "y = Dataset2['Class'].values\n",
    "\n",
    "# Mengonversi array numpy.ndarray kembali ke DataFrame\n",
    "X_df = pd.DataFrame(X)\n",
    "\n",
    "# Menghapus baris yang memiliki nilai NaN\n",
    "X_cleaned = X_df.dropna()\n",
    "X = X_cleaned\n",
    "\n",
    "# Ubah nilai numerik menjadi string\n",
    "y = y.astype(str)\n",
    "\n",
    "# Ubah tipe data target ke numerik dengan LabelEncoder\n",
    "label_encoder = LabelEncoder()\n",
    "y_encoded = label_encoder.fit_transform(y)\n",
    "y = y_encoded"
   ]
  },
  {
   "cell_type": "code",
   "execution_count": 64,
   "id": "3b0e6229-9e32-4484-aa6b-777bb8d96795",
   "metadata": {},
   "outputs": [],
   "source": [
    "#Data Fitting and choosing the important variables\n",
    "extratrees = ek.ExtraTreesClassifier().fit(X,y)\n",
    "model = SelectFromModel(extratrees, prefit=True)\n",
    "X_new = model.transform(X)\n",
    "nbfeatures = X_new.shape[1]"
   ]
  },
  {
   "cell_type": "code",
   "execution_count": 65,
   "id": "d9393331-5588-4c15-ab73-1384d9d2a821",
   "metadata": {},
   "outputs": [
    {
     "data": {
      "text/plain": [
       "4"
      ]
     },
     "execution_count": 65,
     "metadata": {},
     "output_type": "execute_result"
    }
   ],
   "source": [
    "#Number of important features\n",
    "nbfeatures"
   ]
  },
  {
   "cell_type": "code",
   "execution_count": 66,
   "id": "2349885d-8c85-4f72-ad07-7ea6e895a5c1",
   "metadata": {},
   "outputs": [
    {
     "name": "stdout",
     "output_type": "stream",
     "text": [
      "1. feature text (0.297014)\n",
      "2. feature pages (0.216829)\n",
      "3. feature metadata size (0.132243)\n",
      "4. feature title characters (0.111995)\n"
     ]
    }
   ],
   "source": [
    "# Menampilkan Fitur penting Dataset 1\n",
    "features = []\n",
    "index = numpy.argsort(extratrees.feature_importances_)[::-1][:nbfeatures]\n",
    "for f in range(nbfeatures):\n",
    "    print(\"%d. feature %s (%f)\" % (f + 1, Dataset2.columns[2+index[f]], extratrees.feature_importances_[index[f]]))\n",
    "    features.append(Dataset2.columns[2+f])"
   ]
  },
  {
   "cell_type": "code",
   "execution_count": 69,
   "id": "63101b94-510b-4197-9eae-259ed008e895",
   "metadata": {},
   "outputs": [
    {
     "name": "stdout",
     "output_type": "stream",
     "text": [
      "<class 'pandas.core.frame.DataFrame'>\n",
      "RangeIndex: 177482 entries, 0 to 177481\n",
      "Data columns (total 86 columns):\n",
      " #   Column                        Non-Null Count   Dtype  \n",
      "---  ------                        --------------   -----  \n",
      " 0   Unnamed: 0                    177482 non-null  int64  \n",
      " 1   Flow ID                       177482 non-null  object \n",
      " 2    Source IP                    177482 non-null  object \n",
      " 3    Source Port                  177482 non-null  int64  \n",
      " 4    Destination IP               177482 non-null  object \n",
      " 5    Destination Port             177482 non-null  int64  \n",
      " 6    Protocol                     177482 non-null  int64  \n",
      " 7    Timestamp                    177482 non-null  object \n",
      " 8    Flow Duration                177482 non-null  int64  \n",
      " 9    Total Fwd Packets            177482 non-null  int64  \n",
      " 10   Total Backward Packets       177482 non-null  int64  \n",
      " 11  Total Length of Fwd Packets   177482 non-null  float64\n",
      " 12   Total Length of Bwd Packets  177482 non-null  float64\n",
      " 13   Fwd Packet Length Max        177482 non-null  float64\n",
      " 14   Fwd Packet Length Min        177482 non-null  float64\n",
      " 15   Fwd Packet Length Mean       177482 non-null  float64\n",
      " 16   Fwd Packet Length Std        177482 non-null  float64\n",
      " 17  Bwd Packet Length Max         177482 non-null  float64\n",
      " 18   Bwd Packet Length Min        177482 non-null  float64\n",
      " 19   Bwd Packet Length Mean       177482 non-null  float64\n",
      " 20   Bwd Packet Length Std        177482 non-null  float64\n",
      " 21  Flow Bytes/s                  177482 non-null  float64\n",
      " 22   Flow Packets/s               177482 non-null  float64\n",
      " 23   Flow IAT Mean                177482 non-null  float64\n",
      " 24   Flow IAT Std                 177482 non-null  float64\n",
      " 25   Flow IAT Max                 177482 non-null  float64\n",
      " 26   Flow IAT Min                 177482 non-null  float64\n",
      " 27  Fwd IAT Total                 177482 non-null  float64\n",
      " 28   Fwd IAT Mean                 177482 non-null  float64\n",
      " 29   Fwd IAT Std                  177482 non-null  float64\n",
      " 30   Fwd IAT Max                  177482 non-null  float64\n",
      " 31   Fwd IAT Min                  177482 non-null  float64\n",
      " 32  Bwd IAT Total                 177482 non-null  float64\n",
      " 33   Bwd IAT Mean                 177482 non-null  float64\n",
      " 34   Bwd IAT Std                  177482 non-null  float64\n",
      " 35   Bwd IAT Max                  177482 non-null  float64\n",
      " 36   Bwd IAT Min                  177482 non-null  float64\n",
      " 37  Fwd PSH Flags                 177482 non-null  int64  \n",
      " 38   Bwd PSH Flags                177482 non-null  int64  \n",
      " 39   Fwd URG Flags                177482 non-null  int64  \n",
      " 40   Bwd URG Flags                177482 non-null  int64  \n",
      " 41   Fwd Header Length            177482 non-null  int64  \n",
      " 42   Bwd Header Length            177482 non-null  int64  \n",
      " 43  Fwd Packets/s                 177482 non-null  float64\n",
      " 44   Bwd Packets/s                177482 non-null  float64\n",
      " 45   Min Packet Length            177482 non-null  float64\n",
      " 46   Max Packet Length            177482 non-null  float64\n",
      " 47   Packet Length Mean           177482 non-null  float64\n",
      " 48   Packet Length Std            177482 non-null  float64\n",
      " 49   Packet Length Variance       177482 non-null  float64\n",
      " 50  FIN Flag Count                177482 non-null  int64  \n",
      " 51   SYN Flag Count               177482 non-null  int64  \n",
      " 52   RST Flag Count               177482 non-null  int64  \n",
      " 53   PSH Flag Count               177482 non-null  int64  \n",
      " 54   ACK Flag Count               177482 non-null  int64  \n",
      " 55   URG Flag Count               177482 non-null  int64  \n",
      " 56   CWE Flag Count               177482 non-null  int64  \n",
      " 57   ECE Flag Count               177482 non-null  int64  \n",
      " 58   Down/Up Ratio                177482 non-null  float64\n",
      " 59   Average Packet Size          177482 non-null  float64\n",
      " 60   Avg Fwd Segment Size         177482 non-null  float64\n",
      " 61   Avg Bwd Segment Size         177482 non-null  float64\n",
      " 62   Fwd Header Length.1          177482 non-null  int64  \n",
      " 63  Fwd Avg Bytes/Bulk            177482 non-null  int64  \n",
      " 64   Fwd Avg Packets/Bulk         177482 non-null  int64  \n",
      " 65   Fwd Avg Bulk Rate            177482 non-null  int64  \n",
      " 66   Bwd Avg Bytes/Bulk           177482 non-null  int64  \n",
      " 67   Bwd Avg Packets/Bulk         177482 non-null  int64  \n",
      " 68  Bwd Avg Bulk Rate             177482 non-null  int64  \n",
      " 69  Subflow Fwd Packets           177482 non-null  int64  \n",
      " 70   Subflow Fwd Bytes            177482 non-null  int64  \n",
      " 71   Subflow Bwd Packets          177482 non-null  int64  \n",
      " 72   Subflow Bwd Bytes            177482 non-null  int64  \n",
      " 73  Init_Win_bytes_forward        177482 non-null  int64  \n",
      " 74   Init_Win_bytes_backward      177482 non-null  int64  \n",
      " 75   act_data_pkt_fwd             177482 non-null  int64  \n",
      " 76   min_seg_size_forward         177482 non-null  int64  \n",
      " 77  Active Mean                   177482 non-null  float64\n",
      " 78   Active Std                   177482 non-null  float64\n",
      " 79   Active Max                   177482 non-null  float64\n",
      " 80   Active Min                   177482 non-null  float64\n",
      " 81  Idle Mean                     177482 non-null  float64\n",
      " 82   Idle Std                     177482 non-null  float64\n",
      " 83   Idle Max                     177482 non-null  float64\n",
      " 84   Idle Min                     177482 non-null  float64\n",
      " 85  Class                         177482 non-null  object \n",
      "dtypes: float64(45), int64(36), object(5)\n",
      "memory usage: 116.5+ MB\n"
     ]
    }
   ],
   "source": [
    "# Menampilkan info Dataset 3\n",
    "Dataset3.info()"
   ]
  },
  {
   "cell_type": "code",
   "execution_count": 70,
   "id": "aa529e99-2fc8-4c52-a523-4496b4a14be2",
   "metadata": {},
   "outputs": [],
   "source": [
    "# Feature Selection Dataset 3\n",
    "X = Dataset3.drop(['Unnamed: 0', 'Flow ID', ' Source IP', ' Destination IP', ' Timestamp', 'Class'],axis=1).values    #Di drop karena algoritma klasifikasi tidak menerima variabel tipe object\n",
    "# Target variable untuk Dataset 3\n",
    "y = Dataset3['Class'].values"
   ]
  },
  {
   "cell_type": "code",
   "execution_count": 71,
   "id": "034c5b03-db0f-49d7-9bff-57a3b0ff704f",
   "metadata": {},
   "outputs": [],
   "source": [
    "#Data Fitting and choosing the important variables\n",
    "extratrees = ek.ExtraTreesClassifier().fit(X,y)\n",
    "model = SelectFromModel(extratrees, prefit=True)\n",
    "X_new = model.transform(X)\n",
    "nbfeatures = X_new.shape[1]"
   ]
  },
  {
   "cell_type": "code",
   "execution_count": 72,
   "id": "eee0a408-06d0-4b8b-9a3b-86f3e29f10cd",
   "metadata": {},
   "outputs": [
    {
     "data": {
      "text/plain": [
       "19"
      ]
     },
     "execution_count": 72,
     "metadata": {},
     "output_type": "execute_result"
    }
   ],
   "source": [
    "#Number of important features\n",
    "nbfeatures"
   ]
  },
  {
   "cell_type": "code",
   "execution_count": 74,
   "id": "836d5ab7-73b8-47bc-89b0-d2bcbbd3b059",
   "metadata": {},
   "outputs": [
    {
     "name": "stdout",
     "output_type": "stream",
     "text": [
      "1. feature  Source IP (0.061273)\n",
      "2. feature  Flow Packets/s (0.053046)\n",
      "3. feature  Destination Port (0.052325)\n",
      "4. feature  Bwd Packet Length Std (0.052284)\n",
      "5. feature  Flow IAT Mean (0.051767)\n",
      "6. feature  Bwd URG Flags (0.051494)\n",
      "7. feature  Bwd Packet Length Mean (0.051081)\n",
      "8. feature  Fwd Header Length (0.035493)\n",
      "9. feature  Subflow Fwd Bytes (0.035238)\n",
      "10. feature Fwd IAT Total (0.029164)\n",
      "11. feature  Flow IAT Std (0.028373)\n",
      "12. feature  Flow IAT Max (0.028105)\n",
      "13. feature  Fwd IAT Mean (0.027283)\n",
      "14. feature  Source Port (0.025734)\n",
      "15. feature  Bwd Packet Length Min (0.023847)\n",
      "16. feature  Subflow Bwd Packets (0.021378)\n",
      "17. feature Flow Bytes/s (0.016169)\n",
      "18. feature  Fwd URG Flags (0.014630)\n",
      "19. feature  Flow IAT Min (0.014511)\n"
     ]
    }
   ],
   "source": [
    "# Menampilkan Fitur penting Dataset 1\n",
    "features = []\n",
    "index = numpy.argsort(extratrees.feature_importances_)[::-1][:nbfeatures]\n",
    "for f in range(nbfeatures):\n",
    "    print(\"%d. feature %s (%f)\" % (f + 1, Dataset3.columns[2+index[f]], extratrees.feature_importances_[index[f]]))\n",
    "    features.append(Dataset3.columns[2+f])"
   ]
  },
  {
   "cell_type": "code",
   "execution_count": 121,
   "id": "33d8c9d6-aa20-4c50-bf31-5582d5fff1eb",
   "metadata": {},
   "outputs": [
    {
     "name": "stdout",
     "output_type": "stream",
     "text": [
      "<class 'pandas.core.frame.DataFrame'>\n",
      "RangeIndex: 1699 entries, 0 to 1698\n",
      "Data columns (total 12 columns):\n",
      " #   Column                          Non-Null Count  Dtype  \n",
      "---  ------                          --------------  -----  \n",
      " 0   Unnamed: 0                      1699 non-null   int64  \n",
      " 1   _id                             1699 non-null   object \n",
      " 2   inter_api_access_duration(sec)  1695 non-null   float64\n",
      " 3   api_access_uniqueness           1695 non-null   float64\n",
      " 4   sequence_length(count)          1699 non-null   float64\n",
      " 5   vsession_duration(min)          1699 non-null   int64  \n",
      " 6   ip_type                         1699 non-null   object \n",
      " 7   num_sessions                    1699 non-null   float64\n",
      " 8   num_users                       1699 non-null   float64\n",
      " 9   num_unique_apis                 1699 non-null   float64\n",
      " 10  source                          1699 non-null   object \n",
      " 11  classification                  1699 non-null   object \n",
      "dtypes: float64(6), int64(2), object(4)\n",
      "memory usage: 159.4+ KB\n"
     ]
    }
   ],
   "source": [
    "# Menampilkan info Dataset 4\n",
    "Dataset4.info()"
   ]
  },
  {
   "cell_type": "code",
   "execution_count": 122,
   "id": "fa05bc7c-3239-427b-854c-096051ed2b92",
   "metadata": {},
   "outputs": [],
   "source": [
    "# Menghapus baris yang memiliki nilai NaN\n",
    "Dataset4_cleaned = Dataset4.dropna()\n",
    "Dataset4 = Dataset4_cleaned\n",
    "\n",
    "# Feature Selection Dataset 4\n",
    "X = Dataset4.drop(['_id', 'ip_type', 'source', 'classification'],axis=1).values    #Di drop karena algoritma klasifikasi tidak menerima variabel tipe object\n",
    "# Target variable untuk Dataset 4\n",
    "y = Dataset4['classification'].values"
   ]
  },
  {
   "cell_type": "code",
   "execution_count": 123,
   "id": "7075a0df-9a03-4bfd-a344-b13a016094e5",
   "metadata": {},
   "outputs": [],
   "source": [
    "#Data Fitting and choosing the important variables\n",
    "extratrees = ek.ExtraTreesClassifier().fit(X,y)\n",
    "model = SelectFromModel(extratrees, prefit=True)\n",
    "X_new = model.transform(X)\n",
    "nbfeatures = X_new.shape[1]"
   ]
  },
  {
   "cell_type": "code",
   "execution_count": 124,
   "id": "f7c1b075-4b75-49a8-b3a9-38b796af119f",
   "metadata": {},
   "outputs": [
    {
     "data": {
      "text/plain": [
       "3"
      ]
     },
     "execution_count": 124,
     "metadata": {},
     "output_type": "execute_result"
    }
   ],
   "source": [
    "#Number of important features\n",
    "nbfeatures"
   ]
  },
  {
   "cell_type": "code",
   "execution_count": 125,
   "id": "362f5c4d-8cce-443b-9afa-ac09deec2ae4",
   "metadata": {},
   "outputs": [
    {
     "name": "stdout",
     "output_type": "stream",
     "text": [
      "1. feature sequence_length(count) (0.346492)\n",
      "2. feature inter_api_access_duration(sec) (0.316040)\n",
      "3. feature num_users (0.156208)\n"
     ]
    }
   ],
   "source": [
    "# Menampilkan Fitur penting Dataset 4\n",
    "features = []\n",
    "index = numpy.argsort(extratrees.feature_importances_)[::-1][:nbfeatures]\n",
    "for f in range(nbfeatures):\n",
    "    print(\"%d. feature %s (%f)\" % (f + 1, Dataset4.columns[2+index[f]], extratrees.feature_importances_[index[f]]))\n",
    "    features.append(Dataset4.columns[2+f])"
   ]
  },
  {
   "cell_type": "code",
   "execution_count": 7,
   "id": "5ad3fff9-5320-44c3-9256-67f13512112b",
   "metadata": {},
   "outputs": [
    {
     "name": "stdout",
     "output_type": "stream",
     "text": [
      "<class 'pandas.core.frame.DataFrame'>\n",
      "RangeIndex: 82332 entries, 0 to 82331\n",
      "Data columns (total 45 columns):\n",
      " #   Column             Non-Null Count  Dtype  \n",
      "---  ------             --------------  -----  \n",
      " 0   id                 82332 non-null  int64  \n",
      " 1   dur                82332 non-null  float64\n",
      " 2   proto              82332 non-null  object \n",
      " 3   service            82332 non-null  object \n",
      " 4   state              82332 non-null  object \n",
      " 5   spkts              82332 non-null  int64  \n",
      " 6   dpkts              82332 non-null  int64  \n",
      " 7   sbytes             82332 non-null  int64  \n",
      " 8   dbytes             82332 non-null  int64  \n",
      " 9   rate               82332 non-null  float64\n",
      " 10  sttl               82332 non-null  int64  \n",
      " 11  dttl               82332 non-null  int64  \n",
      " 12  sload              82332 non-null  float64\n",
      " 13  dload              82332 non-null  float64\n",
      " 14  sloss              82332 non-null  int64  \n",
      " 15  dloss              82332 non-null  int64  \n",
      " 16  sinpkt             82332 non-null  float64\n",
      " 17  dinpkt             82332 non-null  float64\n",
      " 18  sjit               82332 non-null  float64\n",
      " 19  djit               82332 non-null  float64\n",
      " 20  swin               82332 non-null  int64  \n",
      " 21  stcpb              82332 non-null  int64  \n",
      " 22  dtcpb              82332 non-null  int64  \n",
      " 23  dwin               82332 non-null  int64  \n",
      " 24  tcprtt             82332 non-null  float64\n",
      " 25  synack             82332 non-null  float64\n",
      " 26  ackdat             82332 non-null  float64\n",
      " 27  smean              82332 non-null  int64  \n",
      " 28  dmean              82332 non-null  int64  \n",
      " 29  trans_depth        82332 non-null  int64  \n",
      " 30  response_body_len  82332 non-null  int64  \n",
      " 31  ct_srv_src         82332 non-null  int64  \n",
      " 32  ct_state_ttl       82332 non-null  int64  \n",
      " 33  ct_dst_ltm         82332 non-null  int64  \n",
      " 34  ct_src_dport_ltm   82332 non-null  int64  \n",
      " 35  ct_dst_sport_ltm   82332 non-null  int64  \n",
      " 36  ct_dst_src_ltm     82332 non-null  int64  \n",
      " 37  is_ftp_login       82332 non-null  int64  \n",
      " 38  ct_ftp_cmd         82332 non-null  int64  \n",
      " 39  ct_flw_http_mthd   82332 non-null  int64  \n",
      " 40  ct_src_ltm         82332 non-null  int64  \n",
      " 41  ct_srv_dst         82332 non-null  int64  \n",
      " 42  is_sm_ips_ports    82332 non-null  int64  \n",
      " 43  attack_cat         82332 non-null  object \n",
      " 44  label              82332 non-null  int64  \n",
      "dtypes: float64(11), int64(30), object(4)\n",
      "memory usage: 28.3+ MB\n"
     ]
    }
   ],
   "source": [
    "# Menampilkan info Dataset 5\n",
    "Dataset5.info()"
   ]
  },
  {
   "cell_type": "code",
   "execution_count": 108,
   "id": "c64c46a7-fbe0-400f-a832-e69e695e7acd",
   "metadata": {},
   "outputs": [],
   "source": [
    "# Feature Selection Dataset 5\n",
    "X = Dataset5.drop(['proto', 'service', 'state', 'attack_cat'],axis=1).values    #Di drop karena algoritma klasifikasi tidak menerima variabel tipe object\n",
    "# Target variable untuk Dataset 5\n",
    "y = Dataset5['label'].values"
   ]
  },
  {
   "cell_type": "code",
   "execution_count": 109,
   "id": "8c156c82-732e-4548-b246-3288f1a3e239",
   "metadata": {},
   "outputs": [],
   "source": [
    "#Data Fitting and choosing the important variables\n",
    "extratrees = ek.ExtraTreesClassifier().fit(X,y)\n",
    "model = SelectFromModel(extratrees, prefit=True)\n",
    "X_new = model.transform(X)\n",
    "nbfeatures = X_new.shape[1]"
   ]
  },
  {
   "cell_type": "code",
   "execution_count": 110,
   "id": "da0116d7-d342-4884-bff7-efdc5c376ecd",
   "metadata": {},
   "outputs": [
    {
     "data": {
      "text/plain": [
       "6"
      ]
     },
     "execution_count": 110,
     "metadata": {},
     "output_type": "execute_result"
    }
   ],
   "source": [
    "#Number of important features\n",
    "nbfeatures"
   ]
  },
  {
   "cell_type": "code",
   "execution_count": 111,
   "id": "22082072-ac07-42d3-b2b2-2dec3ee3bbcc",
   "metadata": {},
   "outputs": [
    {
     "name": "stdout",
     "output_type": "stream",
     "text": [
      "1. feature is_sm_ips_ports (0.569887)\n",
      "2. feature rate (0.085960)\n",
      "3. feature proto (0.065424)\n",
      "4. feature djit (0.051117)\n",
      "5. feature ct_srv_src (0.037606)\n",
      "6. feature sttl (0.029778)\n"
     ]
    }
   ],
   "source": [
    "# Menampilkan Fitur penting Dataset 5\n",
    "features = []\n",
    "index = numpy.argsort(extratrees.feature_importances_)[::-1][:nbfeatures]\n",
    "for f in range(nbfeatures):\n",
    "    print(\"%d. feature %s (%f)\" % (f + 1, Dataset5.columns[2+index[f]], extratrees.feature_importances_[index[f]]))\n",
    "    features.append(Dataset5.columns[2+f])"
   ]
  }
 ],
 "metadata": {
  "kernelspec": {
   "display_name": "Python 3 (ipykernel)",
   "language": "python",
   "name": "python3"
  },
  "language_info": {
   "codemirror_mode": {
    "name": "ipython",
    "version": 3
   },
   "file_extension": ".py",
   "mimetype": "text/x-python",
   "name": "python",
   "nbconvert_exporter": "python",
   "pygments_lexer": "ipython3",
   "version": "3.11.2"
  }
 },
 "nbformat": 4,
 "nbformat_minor": 5
}
